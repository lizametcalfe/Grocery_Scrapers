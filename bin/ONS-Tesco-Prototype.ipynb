{
 "metadata": {
  "name": "ONS-Tesco-Prototype"
 },
 "nbformat": 3,
 "nbformat_minor": 0,
 "worksheets": [
  {
   "cells": [
    {
     "cell_type": "heading",
     "level": 1,
     "metadata": {},
     "source": [
      "ONS Big Data: Scraping data from Tesco to MongoDB"
     ]
    },
    {
     "cell_type": "markdown",
     "metadata": {},
     "source": [
      "Overview\n",
      "--------\n",
      "* Data was scraped from the Tesco website via Scrapy and Python, and written to a MongoDB collection \"item_prices\".\n",
      "* We now want to query this data and derive some summary statistics."
     ]
    },
    {
     "cell_type": "markdown",
     "metadata": {},
     "source": [
      "###Initialise MongoDB connection so we can talk to the database"
     ]
    },
    {
     "cell_type": "code",
     "collapsed": false,
     "input": [
      "import pymongo\n",
      "#Default MongoDB server (no authentication) on local machine\n",
      "con = pymongo.Connection('localhost',port=27017)"
     ],
     "language": "python",
     "metadata": {},
     "outputs": [],
     "prompt_number": 13
    },
    {
     "cell_type": "markdown",
     "metadata": {},
     "source": [
      "###Fetch data from MongoDB straight into a Pandas DataFrame via MongoDB aggregate query"
     ]
    },
    {
     "cell_type": "markdown",
     "metadata": {},
     "source": [
      "* The powerful **MongoDB aggregation framework** allows us to apply different operations to a \"pipelined\" query e.g. filter, aggregate functions etc.\n",
      "* In this case, we are simply using it to `$project` the nested timestamp to a normal output column. \n",
      "* This means the data is in a rectangular format that can be loaded into a Pandas DataFrame for analysis using Python's various statistical libraries."
     ]
    },
    {
     "cell_type": "code",
     "collapsed": false,
     "input": [
      "from pymongo import MongoClient\n",
      "#Connect to \"scrapy\" database in MongoDB\n",
      "db = MongoClient().scrapy\n",
      "#build aggregation pipeline to fetch data ($projects nested timestamp to a simple field):\n",
      "pipeline=[{\"$project\":{\"store\":1,\"product_name\":1,\"product_type\":1,\"search_string\":1,\"item_price\":1,\"timestamp\":1,\"_id\":0}}]\n",
      "#Execute aggregation pipeline - results are a map: {ok:1,result:[...]}\n",
      "agg_query = db.item_prices.aggregate(pipeline)\n",
      "#Read the actual results off the aggregation response\n",
      "data = agg_query['result']"
     ],
     "language": "python",
     "metadata": {},
     "outputs": [],
     "prompt_number": 14
    },
    {
     "cell_type": "markdown",
     "metadata": {},
     "source": [
      "###Try some basic analysis with Pandas (Python data analysis library)"
     ]
    },
    {
     "cell_type": "markdown",
     "metadata": {},
     "source": [
      "Pandas provides a lot of functionality for data analysis, so let's try some very simple stuff out here."
     ]
    },
    {
     "cell_type": "code",
     "collapsed": false,
     "input": [
      "import pandas as pd\n",
      "#Load the data into a DataFrame object\n",
      "df = pd.DataFrame(list(data),columns=['item_price','product_name','product_type','search_string','store','timestamp'])\n",
      "#Group the data by search_string\n",
      "grouped = df.groupby(['search_string'])\n",
      "#One line of code to generate summary stats for item_price by group (i.e. search_string)\n",
      "agg_data = grouped.agg(['mean','min','max'])\n",
      "#Display the aggregated data\n",
      "agg_data"
     ],
     "language": "python",
     "metadata": {},
     "outputs": [
      {
       "html": [
        "<div style=\"max-height:1000px;max-width:1500px;overflow:auto;\">\n",
        "<table border=\"1\" class=\"dataframe\">\n",
        "  <thead>\n",
        "    <tr>\n",
        "      <th></th>\n",
        "      <th colspan=\"3\" halign=\"left\">item_price</th>\n",
        "    </tr>\n",
        "    <tr>\n",
        "      <th></th>\n",
        "      <th>mean</th>\n",
        "      <th>min</th>\n",
        "      <th>max</th>\n",
        "    </tr>\n",
        "    <tr>\n",
        "      <th>search_string</th>\n",
        "      <th></th>\n",
        "      <th></th>\n",
        "      <th></th>\n",
        "    </tr>\n",
        "  </thead>\n",
        "  <tbody>\n",
        "    <tr>\n",
        "      <th>bacon 250g</th>\n",
        "      <td> 2.378333</td>\n",
        "      <td> 1.85</td>\n",
        "      <td> 2.99</td>\n",
        "    </tr>\n",
        "    <tr>\n",
        "      <th>butter 250g</th>\n",
        "      <td> 1.622500</td>\n",
        "      <td> 0.98</td>\n",
        "      <td> 3.00</td>\n",
        "    </tr>\n",
        "    <tr>\n",
        "      <th>kitchen towel 2</th>\n",
        "      <td> 2.278571</td>\n",
        "      <td> 1.18</td>\n",
        "      <td> 3.29</td>\n",
        "    </tr>\n",
        "    <tr>\n",
        "      <th>semi-skimmed milk 500ml</th>\n",
        "      <td> 0.560000</td>\n",
        "      <td> 0.56</td>\n",
        "      <td> 0.56</td>\n",
        "    </tr>\n",
        "    <tr>\n",
        "      <th>teabags 80 250g</th>\n",
        "      <td> 2.211333</td>\n",
        "      <td> 0.27</td>\n",
        "      <td> 3.19</td>\n",
        "    </tr>\n",
        "    <tr>\n",
        "      <th>white sliced bread 800g</th>\n",
        "      <td> 1.194000</td>\n",
        "      <td> 0.47</td>\n",
        "      <td> 1.45</td>\n",
        "    </tr>\n",
        "  </tbody>\n",
        "</table>\n",
        "</div>"
       ],
       "output_type": "pyout",
       "prompt_number": 21,
       "text": [
        "                         item_price            \n",
        "                               mean   min   max\n",
        "search_string                                  \n",
        "bacon 250g                 2.378333  1.85  2.99\n",
        "butter 250g                1.622500  0.98  3.00\n",
        "kitchen towel 2            2.278571  1.18  3.29\n",
        "semi-skimmed milk 500ml    0.560000  0.56  0.56\n",
        "teabags 80 250g            2.211333  0.27  3.19\n",
        "white sliced bread 800g    1.194000  0.47  1.45"
       ]
      }
     ],
     "prompt_number": 21
    },
    {
     "cell_type": "markdown",
     "metadata": {},
     "source": [
      "###Now try creating a simple chart from the grouped data.\n",
      "\n",
      "**Note:** If you start IPython as `ipython notebook --pylab=inline` then the Numpy and Matplotlib libraries are imported automatically as **np** and **plt** respectively."
     ]
    },
    {
     "cell_type": "code",
     "collapsed": false,
     "input": [
      "#Create a basic bar chart of the mean/min/max item price from the aggregated data\n",
      "agg_data['item_price'].plot(kind='barh')\n",
      "plt.xlabel('Item price (GBP)')\n",
      "plt.ylabel('Search string')\n",
      "plt.title('Tesco item prices - summary statistics')"
     ],
     "language": "python",
     "metadata": {},
     "outputs": [
      {
       "output_type": "pyout",
       "prompt_number": 22,
       "text": [
        "<matplotlib.text.Text at 0xb4896ac>"
       ]
      },
      {
       "output_type": "display_data",
       "png": "[encoded data removed]"
      }
     ],
     "prompt_number": 22
    },
    {
     "cell_type": "markdown",
     "metadata": {},
     "source": [
      "* The combination of Numpy, Scipy, Matplotlib and Pandas provides a huge range of functionality around statistics, data analysis and visualisation.\n",
      "* Unfortunately, this power and sophistication also means there is quite a steep learning curve when getting started.\n",
      "* In other words, you can do a lot more with these tools than I currently know how to do!"
     ]
    },
    {
     "cell_type": "markdown",
     "metadata": {},
     "source": [
      "###Alternatively, run a simple query directly against MongoDB"
     ]
    },
    {
     "cell_type": "markdown",
     "metadata": {},
     "source": [
      "In this case, we simply run a regular query against MongoDB, which returns the results via a cursor.  This is similar to other database APIs e.g. JDBC."
     ]
    },
    {
     "cell_type": "markdown",
     "metadata": {},
     "source": [
      "* First create a query cursor to find items where the product name includes \"LOAF\" or \"BREAD\""
     ]
    },
    {
     "cell_type": "code",
     "collapsed": false,
     "input": [
      "item_prices = con.scrapy.item_prices\n",
      "cursor = item_prices.find({'$or':[{\"product_name\":{'$regex':'.*LOAF.*'}},{\"product_name\":{'$regex':'.*BREAD.*'}}]})"
     ],
     "language": "python",
     "metadata": {},
     "outputs": [],
     "prompt_number": 17
    },
    {
     "cell_type": "markdown",
     "metadata": {},
     "source": [
      "* Now load the query results into a Pandas DataFrame as previously."
     ]
    },
    {
     "cell_type": "code",
     "collapsed": false,
     "input": [
      "from pandas import DataFrame\n",
      "item_fields = ['product_name','item_price','timestamp']\n",
      "result = DataFrame(list(cursor),columns=item_fields)\n",
      "#show data frame contents\n",
      "result\n"
     ],
     "language": "python",
     "metadata": {},
     "outputs": [
      {
       "html": [
        "<div style=\"max-height:1000px;max-width:1500px;overflow:auto;\">\n",
        "<table border=\"1\" class=\"dataframe\">\n",
        "  <thead>\n",
        "    <tr style=\"text-align: right;\">\n",
        "      <th></th>\n",
        "      <th>product_name</th>\n",
        "      <th>item_price</th>\n",
        "      <th>timestamp</th>\n",
        "    </tr>\n",
        "  </thead>\n",
        "  <tbody>\n",
        "    <tr>\n",
        "      <th>0</th>\n",
        "      <td>      CRUSTY WHITE FARMHOUSE LOAF SLICED 800G</td>\n",
        "      <td> 1.30</td>\n",
        "      <td>2014-02-10 13:42:57.323000</td>\n",
        "    </tr>\n",
        "    <tr>\n",
        "      <th>1</th>\n",
        "      <td>       CRUSTY WHITE SANDWICH LOAF SLICED 800G</td>\n",
        "      <td> 1.30</td>\n",
        "      <td>2014-02-10 13:42:57.325000</td>\n",
        "    </tr>\n",
        "    <tr>\n",
        "      <th>2</th>\n",
        "      <td>   WARBURTONS TOASTIE SLICED WHITE BREAD 800G</td>\n",
        "      <td> 1.45</td>\n",
        "      <td>2014-02-10 13:42:57.327000</td>\n",
        "    </tr>\n",
        "    <tr>\n",
        "      <th>3</th>\n",
        "      <td>    WARBURTONS MEDIUM SLICED WHITE BREAD 800G</td>\n",
        "      <td> 1.45</td>\n",
        "      <td>2014-02-10 13:42:57.328000</td>\n",
        "    </tr>\n",
        "    <tr>\n",
        "      <th>4</th>\n",
        "      <td> TESCO EVERYDAY VALUE SLICED WHITE BREAD 800G</td>\n",
        "      <td> 0.47</td>\n",
        "      <td>2014-02-10 13:42:57.329000</td>\n",
        "    </tr>\n",
        "  </tbody>\n",
        "</table>\n",
        "</div>"
       ],
       "output_type": "pyout",
       "prompt_number": 18,
       "text": [
        "                                   product_name  item_price  \\\n",
        "0       CRUSTY WHITE FARMHOUSE LOAF SLICED 800G        1.30   \n",
        "1        CRUSTY WHITE SANDWICH LOAF SLICED 800G        1.30   \n",
        "2    WARBURTONS TOASTIE SLICED WHITE BREAD 800G        1.45   \n",
        "3     WARBURTONS MEDIUM SLICED WHITE BREAD 800G        1.45   \n",
        "4  TESCO EVERYDAY VALUE SLICED WHITE BREAD 800G        0.47   \n",
        "\n",
        "                   timestamp  \n",
        "0 2014-02-10 13:42:57.323000  \n",
        "1 2014-02-10 13:42:57.325000  \n",
        "2 2014-02-10 13:42:57.327000  \n",
        "3 2014-02-10 13:42:57.328000  \n",
        "4 2014-02-10 13:42:57.329000  "
       ]
      }
     ],
     "prompt_number": 18
    }
   ],
   "metadata": {}
  }
 ]
}